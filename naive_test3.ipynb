{
 "cells": [
  {
   "metadata": {
    "ExecuteTime": {
     "end_time": "2025-02-20T06:41:12.355374Z",
     "start_time": "2025-02-20T06:41:12.351544Z"
    }
   },
   "cell_type": "code",
   "source": [
    "import torch\n",
    "from torch import nn\n",
    "\n",
    "\n",
    "class Tokenizer:\n",
    "    def __init__(self, vocabulary: str, special_tokens: list):\n",
    "        self.special_tokens = special_tokens\n",
    "        self.vocabulary_dictionary = {}\n",
    "        self.reverse_vocabulary_dictionary = {}\n",
    "        vocabulary_list = list(set(vocabulary))\n",
    "        vocabulary_list = vocabulary_list + special_tokens\n",
    "        for index, token in enumerate(vocabulary_list):\n",
    "            self.vocabulary_dictionary[token] = index\n",
    "            self.reverse_vocabulary_dictionary[index] = token\n",
    "\n",
    "    def tokenize(self, text: str, pad_before: list = None, pad_after: list = None) -> torch.Tensor:\n",
    "        split_string = list(text)\n",
    "        pad_before = [] if pad_before is None else pad_before\n",
    "        pad_after = [] if pad_after is None else pad_after\n",
    "        full = pad_before + split_string + pad_after\n",
    "        out = torch.Tensor([self.vocabulary_dictionary[letter] for letter in full])\n",
    "        out = out.long()\n",
    "        return out\n",
    "\n",
    "    def untokenize(self, tensor: torch.Tensor) -> list:\n",
    "        out_list = [self.reverse_vocabulary_dictionary[token.item()] for token in tensor]\n",
    "        return out_list"
   ],
   "id": "d0e3208e1c9b0d2c",
   "outputs": [],
   "execution_count": 82
  },
  {
   "metadata": {
    "ExecuteTime": {
     "end_time": "2025-02-20T06:41:12.406646Z",
     "start_time": "2025-02-20T06:41:12.397804Z"
    }
   },
   "cell_type": "code",
   "source": [
    "import torch\n",
    "from torch import nn\n",
    "\n",
    "\n",
    "class Model(nn.Module):\n",
    "    def __init__(self, latent_size: int, vocabulary_size: int, num_attention_heads: int, encode_depth: int) -> None:\n",
    "        super().__init__()\n",
    "\n",
    "        self.latent_size = latent_size\n",
    "        self.vocabulary_size = vocabulary_size\n",
    "        self.encode_depth = encode_depth\n",
    "\n",
    "        self.lrelu = nn.LeakyReLU()\n",
    "\n",
    "        self.latent_space = torch.zeros(latent_size).to(\"cuda\")\n",
    "\n",
    "        self.embedding = nn.Embedding(vocabulary_size, latent_size)\n",
    "\n",
    "        self.encoder_mha = nn.MultiheadAttention(embed_dim=latent_size, num_heads=num_attention_heads, batch_first=True)\n",
    "        self.encoder_projection = nn.Linear(latent_size, latent_size)\n",
    "        self.encoder_mlp = nn.Sequential(\n",
    "            nn.Linear(latent_size, latent_size * 4),\n",
    "            self.lrelu,\n",
    "            nn.Linear(latent_size * 4, latent_size),\n",
    "        )\n",
    "        self.encoder_mha_blocks = nn.ModuleList([self.encoder_mha for _ in range(encode_depth)])\n",
    "        self.encoder_projection_layers = nn.ModuleList([self.encoder_projection for _ in range(encode_depth)])\n",
    "        self.encoder_mlp_layers = nn.ModuleList([self.encoder_mlp for _ in range(encode_depth)])\n",
    "        self.normalize_encoder_latent = nn.LayerNorm(latent_size)\n",
    "\n",
    "        self.normalize_latent = nn.LayerNorm(latent_size)\n",
    "\n",
    "        self.decoder = nn.Sequential(\n",
    "            nn.Linear(in_features=latent_size, out_features=latent_size),\n",
    "            self.lrelu,\n",
    "            nn.Linear(in_features=latent_size, out_features=self.vocabulary_size),\n",
    "        )\n",
    "\n",
    "    def zero_latent_space(self):\n",
    "        self.latent_space.zero_()\n",
    "\n",
    "    def encode_sequence(self, latent_space: torch.Tensor, sequence: torch.Tensor) -> torch.Tensor:\n",
    "        \"\"\" in size [seq_len], out size [self.latent_size] \"\"\"\n",
    "        tokens = self.embedding(sequence)\n",
    "        seq_len = tokens.size(0)\n",
    "\n",
    "        for index in range(seq_len):\n",
    "            curr_tok = tokens[index]\n",
    "            # latent_copy = self.latent_space\n",
    "            temp_seq = torch.stack([curr_tok, latent_space]).to(\"cuda\")\n",
    "            for i in range(self.encode_depth):\n",
    "                attended_seq, _ = self.encoder_mha_blocks[i](temp_seq, temp_seq, temp_seq)\n",
    "                attended_seq = self.encoder_projection_layers[i](attended_seq)\n",
    "                attended_seq = self.encoder_mlp_layers[i](attended_seq)\n",
    "                temp_seq = temp_seq + attended_seq\n",
    "                temp_seq = self.normalize_encoder_latent(temp_seq)\n",
    "            latent_space = temp_seq[1]\n",
    "        return latent_space\n",
    "\n",
    "    def decode_latent(self, latent_space) -> torch.Tensor:\n",
    "        out = self.decoder(latent_space)\n",
    "        return out\n",
    "\n",
    "    def inference(self, latent_space: torch.Tensor, in_sequence: torch.Tensor, max_len, end_at: str) -> torch.Tensor:\n",
    "        out_sequence = []\n",
    "        self.latent_space = torch.zeros(self.latent_size).to(\"cuda\")\n",
    "        lat_space = self.encode_sequence(latent_space=self.latent_space, sequence=in_sequence)\n",
    "        while len(out_sequence) < max_len:\n",
    "            predictions = self.decode_latent(latent_space=lat_space)\n",
    "            prediction = torch.argmax(predictions)\n",
    "            out_sequence.append(tokenizer.reverse_vocabulary_dictionary[prediction.item()])\n",
    "            print(out_sequence[-1], end=\"\")\n",
    "            if out_sequence[-1] == end_at:\n",
    "                break\n",
    "            lat_space = self.encode_sequence(latent_space=lat_space, sequence=prediction.unsqueeze(0))\n",
    "        return out_sequence\n",
    "\n",
    "    def forward(self, tokens: torch.Tensor) -> torch.Tensor:\n",
    "        latent = torch.zeros(self.latent_size).to(\"cuda\")\n",
    "        latent = self.encode_sequence(latent, tokens)\n",
    "        output = self.decode_latent(latent)\n",
    "        return output"
   ],
   "id": "b354178387c73ea1",
   "outputs": [],
   "execution_count": 83
  },
  {
   "metadata": {
    "ExecuteTime": {
     "end_time": "2025-02-20T06:41:12.553284Z",
     "start_time": "2025-02-20T06:41:12.449110Z"
    }
   },
   "cell_type": "code",
   "source": [
    "import torch\n",
    "\n",
    "vocab = \"abcdefghijklmnopqrstuvwxyz .,<>/?[]{}-_=+1234567890!@#$%^&*()`~ABCDEFGHIJKLMNOPQRSTUVWXYZ\\|\"\n",
    "spec_tok = [\"<model>\", \"</model>\", \"<user>\", \"</user>\", \"<system>\", \"</system>\", \"<unknown>\", \"<padding>\",\n",
    "            \"<temp1>\", \"<temp2>\", \"<temp3>\", \"<temp4>\", \"<temp5>\", \"<temp6>\", \"<temp7>\", \"<temp8>\", \"<temp9>\"]\n",
    "tokenizer = Tokenizer(vocabulary=vocab, special_tokens=spec_tok)\n",
    "foo = tokenizer.tokenize(text=\"hello world\", pad_before=[\"<model>\"], pad_after=[\"</model>\"])\n",
    "print(foo)\n",
    "unfoo = tokenizer.untokenize(foo)\n",
    "print(unfoo)\n",
    "model = Model(latent_size=1024, vocabulary_size=len(tokenizer.vocabulary_dictionary), num_attention_heads=4,\n",
    "              encode_depth=5).to(\"cuda\")"
   ],
   "id": "2294db9e610d120",
   "outputs": [
    {
     "name": "stdout",
     "output_type": "stream",
     "text": [
      "tensor([91, 65, 80, 57, 57, 53, 18, 68, 53, 59, 57, 88, 92])\n",
      "['<model>', 'h', 'e', 'l', 'l', 'o', ' ', 'w', 'o', 'r', 'l', 'd', '</model>']\n"
     ]
    }
   ],
   "execution_count": 84
  },
  {
   "metadata": {
    "ExecuteTime": {
     "end_time": "2025-02-20T06:41:12.572854Z",
     "start_time": "2025-02-20T06:41:12.569472Z"
    }
   },
   "cell_type": "code",
   "source": [
    "texts = [\n",
    "    \"The fat cat took a nap.\",\n",
    "    \"We go to school every day.\",\n",
    "    \"The moon shines at night.\",\n",
    "    \"I write letters to my friend.\",\n",
    "    \"She feeds the hungry cat.\",\n",
    "]\n",
    "\n",
    "training_texts = []\n",
    "for text in texts:\n",
    "    tensor_text = tokenizer.tokenize(text=text, pad_before=[\"<model>\"], pad_after=[\"</model>\"])\n",
    "    training_texts.append(tensor_text.to(\"cuda\"))"
   ],
   "id": "80e343fcec05191c",
   "outputs": [],
   "execution_count": 85
  },
  {
   "metadata": {
    "ExecuteTime": {
     "end_time": "2025-02-20T06:41:28.375101Z",
     "start_time": "2025-02-20T06:41:12.604595Z"
    }
   },
   "cell_type": "code",
   "source": [
    "import torch\n",
    "import random\n",
    "\n",
    "EPOCHS = 1\n",
    "# BATCH_SIZE = 3\n",
    "LEARNING_RATE = 0.001\n",
    "\n",
    "optimizer = torch.optim.Adam(model.parameters(), lr=LEARNING_RATE)\n",
    "loss_fn = nn.CrossEntropyLoss()\n",
    "\n",
    "model.train()\n",
    "optimizer.zero_grad()\n",
    "\n",
    "loss_hist = []\n",
    "\n",
    "loss_avg = 0\n",
    "\n",
    "for epoch in range(EPOCHS):\n",
    "    random.shuffle(training_texts)\n",
    "    for text in training_texts:\n",
    "        for index, letter in enumerate(text):\n",
    "            if 0 < index:\n",
    "                # rand_index = random.randint(1, len(text) - 1)\n",
    "                train_text = text[:index]\n",
    "                label_text = letter\n",
    "                raw_logits = model(train_text)\n",
    "                loss = loss_fn(raw_logits, label_text)\n",
    "                loss.backward()\n",
    "                loss_avg += loss.item()\n",
    "\n",
    "        loss_avg /= len(text)\n",
    "        loss_hist.append(loss_avg)\n",
    "        print(f\"E {epoch + 1:,}/{EPOCHS:,} - {((epoch + 1) / EPOCHS) * 100:.2f}% | Loss: {loss_avg:.5f}\")\n",
    "        loss_avg = 0\n",
    "        optimizer.step()\n",
    "        optimizer.zero_grad()"
   ],
   "id": "10057e71be5a33ef",
   "outputs": [
    {
     "name": "stdout",
     "output_type": "stream",
     "text": [
      "E 1/1 - 100.00% | Loss: 4.40361\n",
      "E 1/1 - 100.00% | Loss: 3.87540\n",
      "E 1/1 - 100.00% | Loss: 3.52349\n",
      "E 1/1 - 100.00% | Loss: 3.71474\n",
      "E 1/1 - 100.00% | Loss: 3.51119\n"
     ]
    }
   ],
   "execution_count": 86
  },
  {
   "metadata": {
    "ExecuteTime": {
     "end_time": "2025-02-20T06:41:28.469626Z",
     "start_time": "2025-02-20T06:41:28.390245Z"
    }
   },
   "cell_type": "code",
   "source": [
    "import matplotlib.pyplot as plt\n",
    "\n",
    "plt.plot(loss_hist, label=\"Loss over time\", color=\"blue\")  # Line plot\n",
    "plt.xlabel(\"Epochs\")\n",
    "plt.ylabel(\"Loss\")\n",
    "plt.title(\"Training Loss Over Time\")\n",
    "plt.legend()\n",
    "plt.grid(True)\n",
    "plt.show()"
   ],
   "id": "407f6f3320cf567a",
   "outputs": [
    {
     "data": {
      "text/plain": [
       "<Figure size 640x480 with 1 Axes>"
      ],
      "image/png": "[encoded data removed]"
     },
     "metadata": {},
     "output_type": "display_data"
    }
   ],
   "execution_count": 87
  },
  {
   "metadata": {
    "ExecuteTime": {
     "end_time": "2025-02-20T06:41:28.935726Z",
     "start_time": "2025-02-20T06:41:28.493786Z"
    }
   },
   "cell_type": "code",
   "source": [
    "import torch\n",
    "\n",
    "txt = \"She feeds the hungry cat.\"\n",
    "foo = tokenizer.tokenize(text=txt, pad_before=[\"<model>\"])\n",
    "foo = foo.to(\"cuda\")\n",
    "out_seq = model.inference(latent_space=model.latent_space, in_sequence=foo, max_len=100, end_at=\"</model>\")\n",
    "print(out_seq)"
   ],
   "id": "9d7806ecf9581135",
   "outputs": [
    {
     "name": "stdout",
     "output_type": "stream",
     "text": [
      "                                                                                                    [' ', ' ', ' ', ' ', ' ', ' ', ' ', ' ', ' ', ' ', ' ', ' ', ' ', ' ', ' ', ' ', ' ', ' ', ' ', ' ', ' ', ' ', ' ', ' ', ' ', ' ', ' ', ' ', ' ', ' ', ' ', ' ', ' ', ' ', ' ', ' ', ' ', ' ', ' ', ' ', ' ', ' ', ' ', ' ', ' ', ' ', ' ', ' ', ' ', ' ', ' ', ' ', ' ', ' ', ' ', ' ', ' ', ' ', ' ', ' ', ' ', ' ', ' ', ' ', ' ', ' ', ' ', ' ', ' ', ' ', ' ', ' ', ' ', ' ', ' ', ' ', ' ', ' ', ' ', ' ', ' ', ' ', ' ', ' ', ' ', ' ', ' ', ' ', ' ', ' ', ' ', ' ', ' ', ' ', ' ', ' ', ' ', ' ', ' ', ' ']\n"
     ]
    }
   ],
   "execution_count": 88
  }
 ],
 "metadata": {
  "kernelspec": {
   "display_name": "Python 3",
   "language": "python",
   "name": "python3"
  },
  "language_info": {
   "codemirror_mode": {
    "name": "ipython",
    "version": 2
   },
   "file_extension": ".py",
   "mimetype": "text/x-python",
   "name": "python",
   "nbconvert_exporter": "python",
   "pygments_lexer": "ipython2",
   "version": "2.7.6"
  }
 },
 "nbformat": 4,
 "nbformat_minor": 5
}
